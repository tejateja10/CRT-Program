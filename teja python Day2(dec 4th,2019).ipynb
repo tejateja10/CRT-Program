{
 "cells": [
  {
   "cell_type": "markdown",
   "metadata": {},
   "source": [
    "# Loops :"
   ]
  },
  {
   "cell_type": "markdown",
   "metadata": {},
   "source": [
    "# while loop syntex:\n",
    "-while condition:\n",
    "   - statement"
   ]
  },
  {
   "cell_type": "code",
   "execution_count": 1,
   "metadata": {
    "scrolled": true
   },
   "outputs": [
    {
     "name": "stdout",
     "output_type": "stream",
     "text": [
      " 10\n",
      "1\n",
      "2\n",
      "3\n",
      "4\n",
      "5\n",
      "6\n",
      "7\n",
      "8\n",
      "9\n",
      "10\n"
     ]
    }
   ],
   "source": [
    "#print numbers from 1 to N\n",
    "##input:10\n",
    "##output:1 2 3 ......10\n",
    "n=int(input(\" \"))\n",
    "i=1\n",
    "while i<=n:\n",
    "    print(i)\n",
    "    i=i+1"
   ]
  },
  {
   "cell_type": "code",
   "execution_count": 4,
   "metadata": {},
   "outputs": [
    {
     "name": "stdout",
     "output_type": "stream",
     "text": [
      "6\n"
     ]
    }
   ],
   "source": [
    "#find the sum of the digits of given number\n",
    "##input=123\n",
    "##output=6(1+2+3)\n",
    "n=123\n",
    "sum=0\n",
    "while n!=0:\n",
    "    r=n%10\n",
    "    sum=sum+r\n",
    "    n=n//10\n",
    "print(sum)    "
   ]
  },
  {
   "cell_type": "code",
   "execution_count": 2,
   "metadata": {},
   "outputs": [
    {
     "name": "stdout",
     "output_type": "stream",
     "text": [
      " 5\n",
      "5 "
     ]
    }
   ],
   "source": [
    "#read the numbers as input\n",
    "n=int(input(\" \"))\n",
    "i=1\n",
    "while i<=n:\n",
    "    print(n%10,end=\" \")\n",
    "    n=n//10"
   ]
  },
  {
   "cell_type": "markdown",
   "metadata": {},
   "source": [
    "\n",
    "# For Loop"
   ]
  },
  {
   "cell_type": "markdown",
   "metadata": {},
   "source": [
    "syntax:\n",
    "  For variable name in literable_obj\n",
    "      statements"
   ]
  },
  {
   "cell_type": "markdown",
   "metadata": {},
   "source": [
    "for variable name in range(start,stop,step)\n",
    "    statement"
   ]
  },
  {
   "cell_type": "code",
   "execution_count": 4,
   "metadata": {},
   "outputs": [
    {
     "name": "stdout",
     "output_type": "stream",
     "text": [
      "1\n",
      "3\n",
      "5\n",
      "7\n",
      "9\n"
     ]
    }
   ],
   "source": [
    "#print N numbers\n",
    "for i in range(1,10+1,2):\n",
    "    print(i)"
   ]
  },
  {
   "cell_type": "code",
   "execution_count": 5,
   "metadata": {},
   "outputs": [
    {
     "name": "stdout",
     "output_type": "stream",
     "text": [
      "p\n",
      "y\n",
      "t\n",
      "h\n",
      "o\n",
      "n\n"
     ]
    }
   ],
   "source": [
    "for i in \"python\":\n",
    "    print(i)"
   ]
  },
  {
   "cell_type": "markdown",
   "metadata": {},
   "source": [
    "# Functional programming:\n",
    "-simple\n",
    "-easy to understand\n",
    "-better reusability\n",
    "-lengthy program will divide into sub program\n",
    "\n",
    "## Two functions:\n",
    "-built in functions\n",
    "user defined functions\n",
    "\n",
    "# syntax\n",
    "## def function-name(parameters)\n",
    "  \n",
    "   statements\n",
    "   return(it can return multiple values)"
   ]
  },
  {
   "cell_type": "code",
   "execution_count": 24,
   "metadata": {},
   "outputs": [
    {
     "name": "stdout",
     "output_type": "stream",
     "text": [
      "3\n"
     ]
    }
   ],
   "source": [
    "# addition of two numbers\n",
    "def addition(a,b):\n",
    "    c=a+b\n",
    "    print(c)\n",
    "addition(1,2)"
   ]
  },
  {
   "cell_type": "code",
   "execution_count": 16,
   "metadata": {},
   "outputs": [
    {
     "data": {
      "text/plain": [
       "6"
      ]
     },
     "execution_count": 16,
     "metadata": {},
     "output_type": "execute_result"
    }
   ],
   "source": [
    "def evendigsum(n):\n",
    "    sum=0\n",
    "    while n!=0:\n",
    "        r=n%10\n",
    "        if n%2==0:\n",
    "            sum=sum+r\n",
    "        n=n//10\n",
    "    return sum\n",
    "evendigsum(1234)"
   ]
  },
  {
   "cell_type": "code",
   "execution_count": 23,
   "metadata": {},
   "outputs": [
    {
     "data": {
      "text/plain": [
       "9"
      ]
     },
     "execution_count": 23,
     "metadata": {},
     "output_type": "execute_result"
    }
   ],
   "source": [
    "#print the largest value\n",
    "def largedigit(n):\n",
    "    large=0\n",
    "    while n!=0:\n",
    "        r=n%10\n",
    "        if large <r:\n",
    "            large=r\n",
    "        n=n//10\n",
    "    return large\n",
    "largedigit(19535)\n"
   ]
  },
  {
   "cell_type": "code",
   "execution_count": 34,
   "metadata": {},
   "outputs": [
    {
     "data": {
      "text/plain": [
       "3"
      ]
     },
     "execution_count": 34,
     "metadata": {},
     "output_type": "execute_result"
    }
   ],
   "source": [
    "def smalldigit(n):\n",
    "    small=9\n",
    "    while n!=0:\n",
    "        r=n%10\n",
    "        if small >r:\n",
    "            small=r\n",
    "        n=n//10\n",
    "    return small\n",
    "smalldigit(9535)\n"
   ]
  },
  {
   "cell_type": "markdown",
   "metadata": {},
   "source": [
    "# Palindrome:\n",
    " - 121=121 palindrome\n",
    "- 123=321 not a palindrome"
   ]
  },
  {
   "cell_type": "code",
   "execution_count": null,
   "metadata": {},
   "outputs": [],
   "source": [
    "def palindrome(n):\n",
    "    rev=0\n",
    "    buffer=n\n",
    "    while n!=0:\n",
    "        rev=rev*10(n%10)\n",
    "        n=n//10\n",
    "    if rev=buffer:\n",
    "        return\"palindrome\"\n",
    "    return\"not palindrome\"\n",
    "print(palindrome(121))\n"
   ]
  }
 ],
 "metadata": {
  "kernelspec": {
   "display_name": "Python 3",
   "language": "python",
   "name": "python3"
  },
  "language_info": {
   "codemirror_mode": {
    "name": "ipython",
    "version": 3
   },
   "file_extension": ".py",
   "mimetype": "text/x-python",
   "name": "python",
   "nbconvert_exporter": "python",
   "pygments_lexer": "ipython3",
   "version": "3.7.3"
  }
 },
 "nbformat": 4,
 "nbformat_minor": 2
}
